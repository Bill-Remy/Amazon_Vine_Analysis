{
  "nbformat": 4,
  "nbformat_minor": 0,
  "metadata": {
    "colab": {
      "name": "Vine_Review_Analysis.ipynb",
      "provenance": [],
      "collapsed_sections": [],
      "include_colab_link": true
    },
    "kernelspec": {
      "name": "python3",
      "display_name": "Python 3"
    },
    "nteract": {
      "version": "0.12.3"
    },
    "language_info": {
      "name": "python"
    }
  },
  "cells": [
    {
      "cell_type": "markdown",
      "metadata": {
        "id": "view-in-github",
        "colab_type": "text"
      },
      "source": [
        "<a href=\"https://colab.research.google.com/github/Bill-Remy/Amazon_Vine_Analysis/blob/main/Vine_Review_Analysis.ipynb\" target=\"_parent\"><img src=\"https://colab.research.google.com/assets/colab-badge.svg\" alt=\"Open In Colab\"/></a>"
      ]
    },
    {
      "cell_type": "code",
      "metadata": {
        "id": "V58rxea0HqSa",
        "colab": {
          "base_uri": "https://localhost:8080/"
        },
        "outputId": "6e9e0425-ab84-42c6-bfc5-18c116dc8af4"
      },
      "source": [
        "import os\n",
        "# Find the latest version of spark 3.0 from http://www.apache.org/dist/spark/ and enter as the spark version\n",
        "# For example:\n",
        "# spark_version = 'spark-3.0.3'\n",
        "spark_version = 'spark-3.0.3'\n",
        "os.environ['SPARK_VERSION']=spark_version\n",
        "\n",
        "# Install Spark and Java\n",
        "!apt-get update\n",
        "!apt-get install openjdk-11-jdk-headless -qq > /dev/null\n",
        "!wget -q http://www.apache.org/dist/spark/$SPARK_VERSION/$SPARK_VERSION-bin-hadoop2.7.tgz\n",
        "!tar xf $SPARK_VERSION-bin-hadoop2.7.tgz\n",
        "!pip install -q findspark\n",
        "\n",
        "# Set Environment Variables\n",
        "import os\n",
        "os.environ[\"JAVA_HOME\"] = \"/usr/lib/jvm/java-11-openjdk-amd64\"\n",
        "os.environ[\"SPARK_HOME\"] = f\"/content/{spark_version}-bin-hadoop2.7\"\n",
        "\n",
        "# Start a SparkSession\n",
        "import findspark\n",
        "findspark.init()"
      ],
      "execution_count": 19,
      "outputs": [
        {
          "output_type": "stream",
          "name": "stdout",
          "text": [
            "\r0% [Working]\r            \rHit:1 https://developer.download.nvidia.com/compute/cuda/repos/ubuntu1804/x86_64  InRelease\n",
            "Hit:2 https://cloud.r-project.org/bin/linux/ubuntu bionic-cran40/ InRelease\n",
            "Ign:3 https://developer.download.nvidia.com/compute/machine-learning/repos/ubuntu1804/x86_64  InRelease\n",
            "Hit:4 https://developer.download.nvidia.com/compute/machine-learning/repos/ubuntu1804/x86_64  Release\n",
            "Get:5 http://ppa.launchpad.net/c2d4u.team/c2d4u4.0+/ubuntu bionic InRelease [15.9 kB]\n",
            "Get:6 http://security.ubuntu.com/ubuntu bionic-security InRelease [88.7 kB]\n",
            "Hit:7 http://archive.ubuntu.com/ubuntu bionic InRelease\n",
            "Get:8 http://archive.ubuntu.com/ubuntu bionic-updates InRelease [88.7 kB]\n",
            "Get:9 http://archive.ubuntu.com/ubuntu bionic-backports InRelease [74.6 kB]\n",
            "Hit:11 http://ppa.launchpad.net/cran/libgit2/ubuntu bionic InRelease\n",
            "Hit:12 http://ppa.launchpad.net/deadsnakes/ppa/ubuntu bionic InRelease\n",
            "Hit:13 http://ppa.launchpad.net/graphics-drivers/ppa/ubuntu bionic InRelease\n",
            "Get:14 http://ppa.launchpad.net/c2d4u.team/c2d4u4.0+/ubuntu bionic/main Sources [2,075 kB]\n",
            "Get:15 http://ppa.launchpad.net/c2d4u.team/c2d4u4.0+/ubuntu bionic/main amd64 Packages [1,063 kB]\n",
            "Fetched 3,406 kB in 4s (926 kB/s)\n",
            "Reading package lists... Done\n"
          ]
        }
      ]
    },
    {
      "cell_type": "code",
      "metadata": {
        "id": "_xKwTpATHqSe",
        "colab": {
          "base_uri": "https://localhost:8080/"
        },
        "outputId": "3a0be925-5be3-4ae8-bee6-3e2dea74d6db"
      },
      "source": [
        "# Download the Postgres driver that will allow Spark to interact with Postgres.\n",
        "!wget https://jdbc.postgresql.org/download/postgresql-42.2.16.jar"
      ],
      "execution_count": 20,
      "outputs": [
        {
          "output_type": "stream",
          "name": "stdout",
          "text": [
            "--2022-07-10 19:33:26--  https://jdbc.postgresql.org/download/postgresql-42.2.16.jar\n",
            "Resolving jdbc.postgresql.org (jdbc.postgresql.org)... 72.32.157.228, 2001:4800:3e1:1::228\n",
            "Connecting to jdbc.postgresql.org (jdbc.postgresql.org)|72.32.157.228|:443... connected.\n",
            "HTTP request sent, awaiting response... 200 OK\n",
            "Length: 1002883 (979K) [application/java-archive]\n",
            "Saving to: ‘postgresql-42.2.16.jar.4’\n",
            "\n",
            "postgresql-42.2.16. 100%[===================>] 979.38K  4.94MB/s    in 0.2s    \n",
            "\n",
            "2022-07-10 19:33:27 (4.94 MB/s) - ‘postgresql-42.2.16.jar.4’ saved [1002883/1002883]\n",
            "\n"
          ]
        }
      ]
    },
    {
      "cell_type": "code",
      "metadata": {
        "id": "MMqDAjVS0KN9"
      },
      "source": [
        "from pyspark.sql import SparkSession\n",
        "spark = SparkSession.builder.appName(\"M16-Amazon-Challenge\").config(\"spark.driver.extraClassPath\",\"/content/postgresql-42.2.16.jar\").getOrCreate()"
      ],
      "execution_count": 21,
      "outputs": []
    },
    {
      "cell_type": "markdown",
      "metadata": {
        "id": "cyBsySGuY-9V"
      },
      "source": [
        "### Load Amazon Data into Spark DataFrame"
      ]
    },
    {
      "cell_type": "code",
      "metadata": {
        "id": "CtCmBhQJY-9Z",
        "colab": {
          "base_uri": "https://localhost:8080/"
        },
        "outputId": "ac9516f2-3d51-4c2b-af82-28c8464e3e6b"
      },
      "source": [
        "from pyspark import SparkFiles\n",
        "url = \"https://s3.amazonaws.com/amazon-reviews-pds/tsv/amazon_reviews_us_Sports_v1_00.tsv.gz\"\n",
        "spark.sparkContext.addFile(url)\n",
        "df = spark.read.option(\"encoding\", \"UTF-8\").csv(SparkFiles.get(\"\"), sep=\"\\t\", header=True, inferSchema=True)\n",
        "df.show()"
      ],
      "execution_count": 22,
      "outputs": [
        {
          "output_type": "stream",
          "name": "stdout",
          "text": [
            "+-----------+-----------+--------------+----------+--------------+--------------------+----------------+-----------+-------------+-----------+----+-----------------+--------------------+--------------------+-----------+\n",
            "|marketplace|customer_id|     review_id|product_id|product_parent|       product_title|product_category|star_rating|helpful_votes|total_votes|vine|verified_purchase|     review_headline|         review_body|review_date|\n",
            "+-----------+-----------+--------------+----------+--------------+--------------------+----------------+-----------+-------------+-----------+----+-----------------+--------------------+--------------------+-----------+\n",
            "|         US|   48945260|R1WBPB8MDCCN8F|B012P7UPSM|     409940130|Chicago Blackhawk...|          Sports|          5|            0|          0|   N|                N|   LOVE IT. 6 stars!|Bought this last ...| 2015-08-31|\n",
            "|         US|    5782091|R32M0YEWV77XG8|B001GQ3VHG|     657746679|Copag Poker Size ...|          Sports|          5|            1|          1|   N|                Y|       Shipped fast.|These are the bes...| 2015-08-31|\n",
            "|         US|   45813853| RR8V7WR27NXJ5|B008VS8M58|     962442336|Baoer 223 5.56x45...|          Sports|          1|            0|          0|   N|                Y|Good idea if it w...|It looks good, th...| 2015-08-31|\n",
            "|         US|    1593730|R1MHO5V9Z932AY|B005F06F4U|      74305227|All Terrain Tackl...|          Sports|          5|            0|          0|   N|                Y|          Five Stars|           Great jig| 2015-08-31|\n",
            "|         US|   29605511|R16PD71086BD2V|B010T4IE2C|     787185588|Swim Cap - 3 Pack...|          Sports|          5|            0|          1|   N|                N|Great quality sil...|I love swimming i...| 2015-08-31|\n",
            "|         US|   11112959|R1Z8IFGWTRWXT6|B004RKJGLS|      94127483|adidas Men's Spor...|          Sports|          3|            0|          0|   N|                Y|Love everything a...|Love everything a...| 2015-08-31|\n",
            "|         US|     108031|R3AUMSHAW73HWN|B005V3DCBU|     526977496|Nike Men's Perfor...|          Sports|          4|            2|          3|   N|                N|          Four Stars|not the best sock...| 2015-08-31|\n",
            "|         US|   13981540|R2KWDWFOHGX6FL|B00MHT9WN8|      26521265|Green Bay Packers...|          Sports|          5|            0|          0|   N|                Y|          Five Stars|             Love it| 2015-08-31|\n",
            "|         US|   37993909|R3H9543FWBWFBU|B001CSIRQ8|     652431165|Isokinetics Inc. ...|          Sports|          5|            1|          1|   N|                Y|can't wait to use it|Unfortunately I h...| 2015-08-31|\n",
            "|         US|   26040213| RUANXOQ9W3OU5|B001KZ3NOO|     635861713|Aottop Quality El...|          Sports|          5|            0|          0|   N|                Y|great product, ac...|fast shipping , g...| 2015-08-31|\n",
            "|         US|   34657602|R31673RTGEZSW7|B00005RCQS|      72099763|Everlast 2'x6' Fo...|          Sports|          5|            2|          2|   N|                Y|this mat is a pre...|If you have a ter...| 2015-08-31|\n",
            "|         US|   14346192|R22OQLFSH42RCM|B00FA7RWVI|     757354022|OGIO Men's Shredd...|          Sports|          5|            1|          1|   N|                Y|  Versatile Golf Bag|Love this golf ba...| 2015-08-31|\n",
            "|         US|   38782687|R12LEL4F3TSZUJ|B000MMH2HU|     272402599|Blue Sea Systems ...|          Sports|          5|            2|          2|   N|                Y|Great AC Main Bre...|Perfect mounting ...| 2015-08-31|\n",
            "|         US|   27138575|R2L9XWD03072NI|B00WJOATDS|     375070208|Zengi AR15 45 Deg...|          Sports|          5|            1|          2|   N|                Y|   Nice, some quirks|For the cost you ...| 2015-08-31|\n",
            "|         US|   11838771|R2K0U91HIACANO|B00BOM2JNY|     639666785|Black Mountain Pr...|          Sports|          5|            0|          0|   N|                N|55 cm - Good qual...|The ball is very ...| 2015-08-31|\n",
            "|         US|     535800|R29SP6MBT7MXG7|B00OD5GAFM|      38715442|Trijicon VCOG 1-6...|          Sports|          4|            3|          3|   N|                Y|    Very nice scope.|Very nice scope.....| 2015-08-31|\n",
            "|         US|   23156579|R31XREAAMATEPY|B00CAHDC1K|      57088652|Naruto Headband f...|          Sports|          5|            0|          0|   N|                Y|was for my son an...|           This item| 2015-08-31|\n",
            "|         US|   48107879|R2116AVB87SO38|B004NLHXLG|     114125984|Under Armour Men'...|          Sports|          5|            0|          0|   N|                Y|          Five Stars|greatest socks i ...| 2015-08-31|\n",
            "|         US|   27260960|R3RDVBB6O0X3HW|B00L7OANWI|     883962979|Yes4All Deep Tiss...|          Sports|          5|            0|          0|   N|                Y|          Five Stars|Perfect for home ...| 2015-08-31|\n",
            "|         US|   39537314|R3LW5T149LKKQM|B0085PPSIQ|     691479969|Lansky PS-MED01 B...|          Sports|          4|            0|          0|   N|                Y|A bit heavy for p...|Very good product...| 2015-08-31|\n",
            "+-----------+-----------+--------------+----------+--------------+--------------------+----------------+-----------+-------------+-----------+----+-----------------+--------------------+--------------------+-----------+\n",
            "only showing top 20 rows\n",
            "\n"
          ]
        }
      ]
    },
    {
      "cell_type": "markdown",
      "metadata": {
        "id": "2yUSe55VY-9t"
      },
      "source": [
        "### Create DataFrames to match tables"
      ]
    },
    {
      "cell_type": "code",
      "metadata": {
        "id": "C8REmY1aY-9u"
      },
      "source": [
        "from pyspark.sql.functions import to_date\n",
        "\n",
        "# Read in the Review dataset as a DataFrame\n"
      ],
      "execution_count": 28,
      "outputs": []
    },
    {
      "cell_type": "code",
      "metadata": {
        "id": "lzMmkdKmY--D",
        "colab": {
          "base_uri": "https://localhost:8080/"
        },
        "outputId": "78100002-0743-4908-9545-91d43b47aaac"
      },
      "source": [
        "# Create the Vine Reviews dataframe and filter for \"total_votes\" > 20\n",
        "# vine_df = df.select([])\n",
        "vine_df = df.filter(\"total_votes > 20\").select(\"review_id\", \"star_rating\", \"helpful_votes\", \"total_votes\", \"vine\", \"verified_purchase\")\n",
        "\n",
        "from pyspark.sql.types import IntegerType\n",
        "vine_df = vine_df.withColumn(\"star_rating\",vine_df[\"star_rating\"].cast(IntegerType()))\n",
        "vine_df.show()"
      ],
      "execution_count": 30,
      "outputs": [
        {
          "output_type": "stream",
          "name": "stdout",
          "text": [
            "+--------------+-----------+-------------+-----------+----+-----------------+\n",
            "|     review_id|star_rating|helpful_votes|total_votes|vine|verified_purchase|\n",
            "+--------------+-----------+-------------+-----------+----+-----------------+\n",
            "|R1B4753QMTD8ON|          5|           32|         32|   N|                N|\n",
            "|R28BVHOEL6GCHZ|          5|           21|         21|   N|                Y|\n",
            "| RJ86OW12Y4NRL|          5|          124|        128|   N|                Y|\n",
            "|R3KRABOWCH6ZE4|          1|           48|         65|   N|                Y|\n",
            "|R1OAKARA30DIWX|          4|           83|         89|   N|                Y|\n",
            "|R36LSV4WQ4VB1K|          5|           17|         22|   N|                N|\n",
            "|R18BTOE5UGN7UA|          5|           26|         28|   N|                Y|\n",
            "|R1DXLGDSK2WMLD|          4|           22|         22|   N|                N|\n",
            "| RZG2OHQ12YYZI|          5|           30|         31|   N|                Y|\n",
            "|R1ZPBQCT4DYE4Z|          1|           45|         51|   N|                Y|\n",
            "|R16KLPJUNC9GS7|          5|           20|         21|   N|                Y|\n",
            "|R3Q0414UJO4BDO|          1|           23|         28|   N|                Y|\n",
            "|R10BO7KWZNBGL1|          4|           23|         24|   N|                Y|\n",
            "|R1H6DQ1UXL6K8U|          5|           86|         97|   N|                N|\n",
            "|R32OMS1LSDRCOB|          4|           27|         31|   Y|                N|\n",
            "|R1ABJ5P5XAZ9AW|          5|          174|        187|   N|                N|\n",
            "|R2RRFZ2YFSJ2OF|          5|           27|         27|   N|                Y|\n",
            "|R19G3LWRFBHDX3|          1|            4|         42|   N|                Y|\n",
            "| RJ0T139KDORXP|          5|           23|         24|   N|                Y|\n",
            "|R30MVK7HP2DW91|          5|           84|        124|   N|                Y|\n",
            "+--------------+-----------+-------------+-----------+----+-----------------+\n",
            "only showing top 20 rows\n",
            "\n"
          ]
        }
      ]
    },
    {
      "cell_type": "code",
      "metadata": {
        "id": "Exuo6ebUsCqW",
        "colab": {
          "base_uri": "https://localhost:8080/"
        },
        "outputId": "e2a2abb8-5a63-4b85-97ac-42fd9e789d30"
      },
      "source": [
        "# Filter data where helpful_votes/total_votes < 0.5\n",
        "vine_df = vine_df.withColumn(\"Helpful_Vote_Ratio\",vine_df.helpful_votes/vine_df.total_votes)\n",
        "helpful_df = vine_df.filter(\"Helpful_Vote_Ratio > 0.5\")\n",
        "helpful_df.show()"
      ],
      "execution_count": 34,
      "outputs": [
        {
          "output_type": "stream",
          "name": "stdout",
          "text": [
            "+--------------+-----------+-------------+-----------+----+-----------------+------------------+\n",
            "|     review_id|star_rating|helpful_votes|total_votes|vine|verified_purchase|Helpful_Vote_Ratio|\n",
            "+--------------+-----------+-------------+-----------+----+-----------------+------------------+\n",
            "|R1B4753QMTD8ON|          5|           32|         32|   N|                N|               1.0|\n",
            "|R28BVHOEL6GCHZ|          5|           21|         21|   N|                Y|               1.0|\n",
            "| RJ86OW12Y4NRL|          5|          124|        128|   N|                Y|           0.96875|\n",
            "|R3KRABOWCH6ZE4|          1|           48|         65|   N|                Y|0.7384615384615385|\n",
            "|R1OAKARA30DIWX|          4|           83|         89|   N|                Y|0.9325842696629213|\n",
            "|R36LSV4WQ4VB1K|          5|           17|         22|   N|                N|0.7727272727272727|\n",
            "|R18BTOE5UGN7UA|          5|           26|         28|   N|                Y|0.9285714285714286|\n",
            "|R1DXLGDSK2WMLD|          4|           22|         22|   N|                N|               1.0|\n",
            "| RZG2OHQ12YYZI|          5|           30|         31|   N|                Y| 0.967741935483871|\n",
            "|R1ZPBQCT4DYE4Z|          1|           45|         51|   N|                Y|0.8823529411764706|\n",
            "|R16KLPJUNC9GS7|          5|           20|         21|   N|                Y|0.9523809523809523|\n",
            "|R3Q0414UJO4BDO|          1|           23|         28|   N|                Y|0.8214285714285714|\n",
            "|R10BO7KWZNBGL1|          4|           23|         24|   N|                Y|0.9583333333333334|\n",
            "|R1H6DQ1UXL6K8U|          5|           86|         97|   N|                N|0.8865979381443299|\n",
            "|R32OMS1LSDRCOB|          4|           27|         31|   Y|                N|0.8709677419354839|\n",
            "|R1ABJ5P5XAZ9AW|          5|          174|        187|   N|                N|  0.93048128342246|\n",
            "|R2RRFZ2YFSJ2OF|          5|           27|         27|   N|                Y|               1.0|\n",
            "| RJ0T139KDORXP|          5|           23|         24|   N|                Y|0.9583333333333334|\n",
            "|R30MVK7HP2DW91|          5|           84|        124|   N|                Y|0.6774193548387096|\n",
            "|R2UIAX8RD0JPJT|          4|           25|         25|   N|                Y|               1.0|\n",
            "+--------------+-----------+-------------+-----------+----+-----------------+------------------+\n",
            "only showing top 20 rows\n",
            "\n"
          ]
        }
      ]
    },
    {
      "cell_type": "code",
      "source": [
        "# Filter for reviews as part of Vine - Paid"
      ],
      "metadata": {
        "id": "W50WAFfOrw7B"
      },
      "execution_count": null,
      "outputs": []
    },
    {
      "cell_type": "code",
      "source": [
        "paid_df = helpful_df.filter(\"vine == 'Y'\")\n",
        "paid_df.show()"
      ],
      "metadata": {
        "colab": {
          "base_uri": "https://localhost:8080/"
        },
        "id": "q-K0-TqMrxRi",
        "outputId": "d5343262-10c0-4e55-fcc8-b741505e5eed"
      },
      "execution_count": 36,
      "outputs": [
        {
          "output_type": "stream",
          "name": "stdout",
          "text": [
            "+--------------+-----------+-------------+-----------+----+-----------------+------------------+\n",
            "|     review_id|star_rating|helpful_votes|total_votes|vine|verified_purchase|Helpful_Vote_Ratio|\n",
            "+--------------+-----------+-------------+-----------+----+-----------------+------------------+\n",
            "|R32OMS1LSDRCOB|          4|           27|         31|   Y|                N|0.8709677419354839|\n",
            "|R2IPKK4I0XRCFR|          4|           16|         21|   Y|                N|0.7619047619047619|\n",
            "| RXYYJ8SGI9IX6|          5|           36|         41|   Y|                N|0.8780487804878049|\n",
            "|R1SAUBFC7T6JHC|          5|           73|         75|   Y|                N|0.9733333333333334|\n",
            "|R329HVJKKHWSG3|          5|           59|         59|   Y|                N|               1.0|\n",
            "| RZL21K50M52KW|          5|           22|         22|   Y|                N|               1.0|\n",
            "|R1803HITBY7Y08|          4|           92|        104|   Y|                N|0.8846153846153846|\n",
            "|R1888B8Z6QWYZ4|          4|           18|         25|   Y|                N|              0.72|\n",
            "|R1S538NK2I5PRL|          5|           21|         22|   Y|                N|0.9545454545454546|\n",
            "| RZDTBIS1289HJ|          5|           26|         28|   Y|                N|0.9285714285714286|\n",
            "|R1MWLO2PFODMQ3|          5|           31|         32|   Y|                N|           0.96875|\n",
            "|R3O6EMC0ISQY92|          4|           25|         27|   Y|                N|0.9259259259259259|\n",
            "|R1OGJY9TSNXXX3|          5|           19|         22|   Y|                N|0.8636363636363636|\n",
            "| R3AOPWQNKJ6VE|          5|           25|         29|   Y|                N|0.8620689655172413|\n",
            "|R1XJFRM9ANTVSZ|          4|           44|         46|   Y|                N|0.9565217391304348|\n",
            "|R1VDF41NJMDGBT|          2|           23|         29|   Y|                N|0.7931034482758621|\n",
            "|R2C0QDBA4NEEKD|          3|          173|        200|   Y|                N|             0.865|\n",
            "|R3TUMV5DZL433H|          4|           29|         38|   Y|                N|0.7631578947368421|\n",
            "| RVU1EA54INF9T|          5|           19|         21|   Y|                N|0.9047619047619048|\n",
            "| R4OGJIZQTLFB9|          4|           15|         21|   Y|                N|0.7142857142857143|\n",
            "+--------------+-----------+-------------+-----------+----+-----------------+------------------+\n",
            "only showing top 20 rows\n",
            "\n"
          ]
        }
      ]
    },
    {
      "cell_type": "code",
      "source": [
        "# Create Dataframe for unpaid reviewers - not part of Vine\n",
        "unpaid_df = helpful_df.filter(\"vine == 'N'\")\n",
        "unpaid_df.show()"
      ],
      "metadata": {
        "colab": {
          "base_uri": "https://localhost:8080/"
        },
        "id": "bMT9eI1XrxUk",
        "outputId": "5be53c36-3c4c-47b5-be48-1d4785cc6a59"
      },
      "execution_count": 37,
      "outputs": [
        {
          "output_type": "stream",
          "name": "stdout",
          "text": [
            "+--------------+-----------+-------------+-----------+----+-----------------+------------------+\n",
            "|     review_id|star_rating|helpful_votes|total_votes|vine|verified_purchase|Helpful_Vote_Ratio|\n",
            "+--------------+-----------+-------------+-----------+----+-----------------+------------------+\n",
            "|R1B4753QMTD8ON|          5|           32|         32|   N|                N|               1.0|\n",
            "|R28BVHOEL6GCHZ|          5|           21|         21|   N|                Y|               1.0|\n",
            "| RJ86OW12Y4NRL|          5|          124|        128|   N|                Y|           0.96875|\n",
            "|R3KRABOWCH6ZE4|          1|           48|         65|   N|                Y|0.7384615384615385|\n",
            "|R1OAKARA30DIWX|          4|           83|         89|   N|                Y|0.9325842696629213|\n",
            "|R36LSV4WQ4VB1K|          5|           17|         22|   N|                N|0.7727272727272727|\n",
            "|R18BTOE5UGN7UA|          5|           26|         28|   N|                Y|0.9285714285714286|\n",
            "|R1DXLGDSK2WMLD|          4|           22|         22|   N|                N|               1.0|\n",
            "| RZG2OHQ12YYZI|          5|           30|         31|   N|                Y| 0.967741935483871|\n",
            "|R1ZPBQCT4DYE4Z|          1|           45|         51|   N|                Y|0.8823529411764706|\n",
            "|R16KLPJUNC9GS7|          5|           20|         21|   N|                Y|0.9523809523809523|\n",
            "|R3Q0414UJO4BDO|          1|           23|         28|   N|                Y|0.8214285714285714|\n",
            "|R10BO7KWZNBGL1|          4|           23|         24|   N|                Y|0.9583333333333334|\n",
            "|R1H6DQ1UXL6K8U|          5|           86|         97|   N|                N|0.8865979381443299|\n",
            "|R1ABJ5P5XAZ9AW|          5|          174|        187|   N|                N|  0.93048128342246|\n",
            "|R2RRFZ2YFSJ2OF|          5|           27|         27|   N|                Y|               1.0|\n",
            "| RJ0T139KDORXP|          5|           23|         24|   N|                Y|0.9583333333333334|\n",
            "|R30MVK7HP2DW91|          5|           84|        124|   N|                Y|0.6774193548387096|\n",
            "|R2UIAX8RD0JPJT|          4|           25|         25|   N|                Y|               1.0|\n",
            "|  RUCON6HXM398|          5|          390|        403|   N|                N| 0.967741935483871|\n",
            "+--------------+-----------+-------------+-----------+----+-----------------+------------------+\n",
            "only showing top 20 rows\n",
            "\n"
          ]
        }
      ]
    }
  ]
}